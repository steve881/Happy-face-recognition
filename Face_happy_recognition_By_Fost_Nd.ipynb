{
 "cells": [
  {
   "cell_type": "code",
   "execution_count": 1,
   "metadata": {},
   "outputs": [
    {
     "name": "stderr",
     "output_type": "stream",
     "text": [
      "Using TensorFlow backend.\n"
     ]
    }
   ],
   "source": [
    "#importation des bibliotheque\n",
    "import numpy as np\n",
    "from keras import layers\n",
    "from keras.layers import Input, Dense, Activation, ZeroPadding2D, BatchNormalization, Flatten, Conv2D \n",
    "from keras.layers import AveragePooling2D, MaxPooling2D, Dropout, GlobalMaxPooling2D, GlobalAveragePooling2D\n",
    "from keras.models import Model\n",
    "from keras.preprocessing import image\n",
    "from keras.utils import layer_utils\n",
    "from keras.utils.data_utils import get_file\n",
    "from keras.applications.imagenet_utils import preprocess_input\n",
    "import pydot\n",
    "from IPython.display import SVG\n",
    "from keras.utils.vis_utils import model_to_dot\n",
    "from keras.utils import plot_model\n",
    "import matplotlib.pyplot as plt \n",
    "from cs231n.Face_happy_fost_nd import *"
   ]
  },
  {
   "cell_type": "code",
   "execution_count": 2,
   "metadata": {},
   "outputs": [],
   "source": [
    "#on implemente la dataset qui va nous servir d entrainenment et de test \n",
    "train_set_x_orig, train_set_y_orig, test_set_x_orig, test_set_y_orig, classes = load_dataset()\n",
    "x_train = train_set_x_orig/255\n",
    "y_train= train_set_y_orig.T\n",
    "x_test = test_set_x_orig/255\n",
    "y_test =  test_set_y_orig.T"
   ]
  },
  {
   "cell_type": "code",
   "execution_count": 3,
   "metadata": {},
   "outputs": [
    {
     "name": "stdout",
     "output_type": "stream",
     "text": [
      "y = 1 picture.\n"
     ]
    },
    {
     "data": {
      "image/png": "[encoded data removed]",
      "text/plain": [
       "<matplotlib.figure.Figure at 0x17945a02be0>"
      ]
     },
     "metadata": {},
     "output_type": "display_data"
    }
   ],
   "source": [
    "#ici on visualise les images en changeant d 'index '\n",
    "index = 50\n",
    "plt.imshow(train_set_x_orig[index])\n",
    "print (\"y = \" + str(train_set_y_orig[0,index]) +  \" picture.\")"
   ]
  },
  {
   "cell_type": "code",
   "execution_count": 4,
   "metadata": {},
   "outputs": [
    {
     "name": "stdout",
     "output_type": "stream",
     "text": [
      "train_set_y_orig shape = (600, 1)\n",
      "test_set_y_orig shape = (150, 1)\n",
      "x_train shape = (600, 64, 64, 3)\n",
      "x_test shape = (150, 64, 64, 3)\n",
      "train_set_y_orig shape = (600, 64, 64, 3)\n"
     ]
    }
   ],
   "source": [
    "#recaputulatif des taille de des donnees\n",
    "\n",
    "print(\"train_set_y_orig shape = \" + str(y_train.shape) )\n",
    "print(\"test_set_y_orig shape = \" + str(y_test.shape) )\n",
    "print(\"x_train shape = \" + str(x_train.shape) )\n",
    "print(\"x_test shape = \" + str(x_test.shape) )\n",
    "print(\"train_set_y_orig shape = \" + str(train_set_x_orig.shape) )"
   ]
  },
  {
   "cell_type": "code",
   "execution_count": 5,
   "metadata": {},
   "outputs": [],
   "source": [
    "def HappyFace(input_shape):\n",
    "    img_input=Input(input_shape)\n",
    "    img = ZeroPadding2D(padding=(3,3))(img_input)\n",
    "    img = Conv2D(32,(7,7),strides = (1,1), name = 'conv0')(img)\n",
    "    img = BatchNormalization(axis = 3, name = 'bn0')(img)\n",
    "    img = Activation('relu')(img)\n",
    "    img = MaxPooling2D((2, 2), name='max_pool')(img)\n",
    "    img =Flatten()(img)\n",
    "    img =Dense(1, activation='sigmoid', name='fc')(img)\n",
    "    \n",
    "    model = Model(inputs = img_input, outputs = img, name ='HappyFace')\n",
    "    \n",
    "    return model"
   ]
  },
  {
   "cell_type": "code",
   "execution_count": 6,
   "metadata": {},
   "outputs": [
    {
     "name": "stdout",
     "output_type": "stream",
     "text": [
      "WARNING:tensorflow:From C:\\Users\\FOST\\Anaconda3\\envs\\SteveDeepAI\\lib\\site-packages\\keras\\backend\\tensorflow_backend.py:1264: calling reduce_prod (from tensorflow.python.ops.math_ops) with keep_dims is deprecated and will be removed in a future version.\n",
      "Instructions for updating:\n",
      "keep_dims is deprecated, use keepdims instead\n"
     ]
    }
   ],
   "source": [
    "happymodel = HappyFace((64,64,3))"
   ]
  },
  {
   "cell_type": "code",
   "execution_count": 7,
   "metadata": {},
   "outputs": [
    {
     "name": "stdout",
     "output_type": "stream",
     "text": [
      "WARNING:tensorflow:From C:\\Users\\FOST\\Anaconda3\\envs\\SteveDeepAI\\lib\\site-packages\\keras\\backend\\tensorflow_backend.py:1349: calling reduce_mean (from tensorflow.python.ops.math_ops) with keep_dims is deprecated and will be removed in a future version.\n",
      "Instructions for updating:\n",
      "keep_dims is deprecated, use keepdims instead\n"
     ]
    }
   ],
   "source": [
    "happymodel.compile(optimizer ='Adam', loss = 'binary_crossentropy', metrics =['accuracy'])"
   ]
  },
  {
   "cell_type": "code",
   "execution_count": 8,
   "metadata": {},
   "outputs": [
    {
     "name": "stdout",
     "output_type": "stream",
     "text": [
      "Epoch 1/10\n",
      "600/600 [==============================] - 10s 17ms/step - loss: 0.9463 - acc: 0.6767\n",
      "Epoch 2/10\n",
      "600/600 [==============================] - 10s 16ms/step - loss: 0.2904 - acc: 0.8850\n",
      "Epoch 3/10\n",
      "600/600 [==============================] - 10s 16ms/step - loss: 0.1696 - acc: 0.9333\n",
      "Epoch 4/10\n",
      "600/600 [==============================] - 10s 17ms/step - loss: 0.1078 - acc: 0.9633\n",
      "Epoch 5/10\n",
      "600/600 [==============================] - 11s 19ms/step - loss: 0.0754 - acc: 0.9767\n",
      "Epoch 6/10\n",
      "600/600 [==============================] - 11s 19ms/step - loss: 0.0761 - acc: 0.9833\n",
      "Epoch 7/10\n",
      "600/600 [==============================] - 10s 17ms/step - loss: 0.0952 - acc: 0.9683\n",
      "Epoch 8/10\n",
      "600/600 [==============================] - 10s 16ms/step - loss: 0.0918 - acc: 0.9667\n",
      "Epoch 9/10\n",
      "600/600 [==============================] - 10s 16ms/step - loss: 0.0799 - acc: 0.9750\n",
      "Epoch 10/10\n",
      "600/600 [==============================] - 10s 16ms/step - loss: 0.0613 - acc: 0.9800\n"
     ]
    },
    {
     "data": {
      "text/plain": [
       "<keras.callbacks.History at 0x17946a5fb70>"
      ]
     },
     "execution_count": 8,
     "metadata": {},
     "output_type": "execute_result"
    }
   ],
   "source": [
    "happymodel.fit(x = x_train,y= y_train, epochs = 10, batch_size = 32)"
   ]
  },
  {
   "cell_type": "code",
   "execution_count": 9,
   "metadata": {},
   "outputs": [
    {
     "name": "stdout",
     "output_type": "stream",
     "text": [
      "150/150 [==============================] - 1s 8ms/step\n",
      "\n",
      "Loss = 0.2423791734377543\n",
      "test accuracy =0.9466666642824809\n"
     ]
    }
   ],
   "source": [
    "preds = happymodel.evaluate(x_test,y_test)\n",
    "\n",
    "print()\n",
    "print(\"Loss = \"+str(preds[0]))\n",
    "print(\"test accuracy =\"+str(preds[1]))"
   ]
  },
  {
   "cell_type": "code",
   "execution_count": 10,
   "metadata": {},
   "outputs": [
    {
     "name": "stdout",
     "output_type": "stream",
     "text": [
      "[[0.]]\n"
     ]
    },
    {
     "data": {
      "image/png": "[encoded data removed]",
      "text/plain": [
       "<matplotlib.figure.Figure at 0x17946a592e8>"
      ]
     },
     "metadata": {},
     "output_type": "display_data"
    }
   ],
   "source": [
    "img_path = 'cs231n/keras_Residual_NN/images/my_image.jpg'\n",
    "\n",
    "img = image.load_img(img_path, target_size=(64,64))\n",
    "plt.imshow(img)\n",
    "\n",
    "x = image.img_to_array(img)\n",
    "x = np.expand_dims(x,axis=0)\n",
    "x = preprocess_input(x)\n",
    "\n",
    "print(happymodel.predict(x))\n"
   ]
  },
  {
   "cell_type": "code",
   "execution_count": 11,
   "metadata": {},
   "outputs": [
    {
     "name": "stdout",
     "output_type": "stream",
     "text": [
      "_________________________________________________________________\n",
      "Layer (type)                 Output Shape              Param #   \n",
      "=================================================================\n",
      "input_1 (InputLayer)         (None, 64, 64, 3)         0         \n",
      "_________________________________________________________________\n",
      "zero_padding2d_1 (ZeroPaddin (None, 70, 70, 3)         0         \n",
      "_________________________________________________________________\n",
      "conv0 (Conv2D)               (None, 64, 64, 32)        4736      \n",
      "_________________________________________________________________\n",
      "bn0 (BatchNormalization)     (None, 64, 64, 32)        128       \n",
      "_________________________________________________________________\n",
      "activation_1 (Activation)    (None, 64, 64, 32)        0         \n",
      "_________________________________________________________________\n",
      "max_pool (MaxPooling2D)      (None, 32, 32, 32)        0         \n",
      "_________________________________________________________________\n",
      "flatten_1 (Flatten)          (None, 32768)             0         \n",
      "_________________________________________________________________\n",
      "fc (Dense)                   (None, 1)                 32769     \n",
      "=================================================================\n",
      "Total params: 37,633\n",
      "Trainable params: 37,569\n",
      "Non-trainable params: 64\n",
      "_________________________________________________________________\n"
     ]
    },
    {
     "data": {
      "image/svg+xml": [
       "<svg height=\"556pt\" viewBox=\"0.00 0.00 225.00 556.00\" width=\"225pt\" xmlns=\"http://www.w3.org/2000/svg\" xmlns:xlink=\"http://www.w3.org/1999/xlink\">\n",
       "<g class=\"graph\" id=\"graph0\" transform=\"scale(1 1) rotate(0) translate(4 552)\">\n",
       "<title>G</title>\n",
       "<polygon fill=\"white\" points=\"-4,4 -4,-552 221,-552 221,4 -4,4\" stroke=\"none\"/>\n",
       "<!-- 1620370793584 -->\n",
       "<g class=\"node\" id=\"node1\"><title>1620370793584</title>\n",
       "<polygon fill=\"none\" points=\"45.5,-511.5 45.5,-547.5 171.5,-547.5 171.5,-511.5 45.5,-511.5\" stroke=\"black\"/>\n",
       "<text font-family=\"Times New Roman,serif\" font-size=\"14.00\" text-anchor=\"middle\" x=\"108.5\" y=\"-525.8\">input_1: InputLayer</text>\n",
       "</g>\n",
       "<!-- 1620370794200 -->\n",
       "<g class=\"node\" id=\"node2\"><title>1620370794200</title>\n",
       "<polygon fill=\"none\" points=\"0,-438.5 0,-474.5 217,-474.5 217,-438.5 0,-438.5\" stroke=\"black\"/>\n",
       "<text font-family=\"Times New Roman,serif\" font-size=\"14.00\" text-anchor=\"middle\" x=\"108.5\" y=\"-452.8\">zero_padding2d_1: ZeroPadding2D</text>\n",
       "</g>\n",
       "<!-- 1620370793584&#45;&gt;1620370794200 -->\n",
       "<g class=\"edge\" id=\"edge1\"><title>1620370793584-&gt;1620370794200</title>\n",
       "<path d=\"M108.5,-511.313C108.5,-503.289 108.5,-493.547 108.5,-484.569\" fill=\"none\" stroke=\"black\"/>\n",
       "<polygon fill=\"black\" points=\"112,-484.529 108.5,-474.529 105,-484.529 112,-484.529\" stroke=\"black\"/>\n",
       "</g>\n",
       "<!-- 1620388524720 -->\n",
       "<g class=\"node\" id=\"node3\"><title>1620388524720</title>\n",
       "<polygon fill=\"none\" points=\"56,-365.5 56,-401.5 161,-401.5 161,-365.5 56,-365.5\" stroke=\"black\"/>\n",
       "<text font-family=\"Times New Roman,serif\" font-size=\"14.00\" text-anchor=\"middle\" x=\"108.5\" y=\"-379.8\">conv0: Conv2D</text>\n",
       "</g>\n",
       "<!-- 1620370794200&#45;&gt;1620388524720 -->\n",
       "<g class=\"edge\" id=\"edge2\"><title>1620370794200-&gt;1620388524720</title>\n",
       "<path d=\"M108.5,-438.313C108.5,-430.289 108.5,-420.547 108.5,-411.569\" fill=\"none\" stroke=\"black\"/>\n",
       "<polygon fill=\"black\" points=\"112,-411.529 108.5,-401.529 105,-411.529 112,-411.529\" stroke=\"black\"/>\n",
       "</g>\n",
       "<!-- 1620388571736 -->\n",
       "<g class=\"node\" id=\"node4\"><title>1620388571736</title>\n",
       "<polygon fill=\"none\" points=\"31.5,-292.5 31.5,-328.5 185.5,-328.5 185.5,-292.5 31.5,-292.5\" stroke=\"black\"/>\n",
       "<text font-family=\"Times New Roman,serif\" font-size=\"14.00\" text-anchor=\"middle\" x=\"108.5\" y=\"-306.8\">bn0: BatchNormalization</text>\n",
       "</g>\n",
       "<!-- 1620388524720&#45;&gt;1620388571736 -->\n",
       "<g class=\"edge\" id=\"edge3\"><title>1620388524720-&gt;1620388571736</title>\n",
       "<path d=\"M108.5,-365.313C108.5,-357.289 108.5,-347.547 108.5,-338.569\" fill=\"none\" stroke=\"black\"/>\n",
       "<polygon fill=\"black\" points=\"112,-338.529 108.5,-328.529 105,-338.529 112,-338.529\" stroke=\"black\"/>\n",
       "</g>\n",
       "<!-- 1620388573136 -->\n",
       "<g class=\"node\" id=\"node5\"><title>1620388573136</title>\n",
       "<polygon fill=\"none\" points=\"34.5,-219.5 34.5,-255.5 182.5,-255.5 182.5,-219.5 34.5,-219.5\" stroke=\"black\"/>\n",
       "<text font-family=\"Times New Roman,serif\" font-size=\"14.00\" text-anchor=\"middle\" x=\"108.5\" y=\"-233.8\">activation_1: Activation</text>\n",
       "</g>\n",
       "<!-- 1620388571736&#45;&gt;1620388573136 -->\n",
       "<g class=\"edge\" id=\"edge4\"><title>1620388571736-&gt;1620388573136</title>\n",
       "<path d=\"M108.5,-292.313C108.5,-284.289 108.5,-274.547 108.5,-265.569\" fill=\"none\" stroke=\"black\"/>\n",
       "<polygon fill=\"black\" points=\"112,-265.529 108.5,-255.529 105,-265.529 112,-265.529\" stroke=\"black\"/>\n",
       "</g>\n",
       "<!-- 1620388571624 -->\n",
       "<g class=\"node\" id=\"node6\"><title>1620388571624</title>\n",
       "<polygon fill=\"none\" points=\"26.5,-146.5 26.5,-182.5 190.5,-182.5 190.5,-146.5 26.5,-146.5\" stroke=\"black\"/>\n",
       "<text font-family=\"Times New Roman,serif\" font-size=\"14.00\" text-anchor=\"middle\" x=\"108.5\" y=\"-160.8\">max_pool: MaxPooling2D</text>\n",
       "</g>\n",
       "<!-- 1620388573136&#45;&gt;1620388571624 -->\n",
       "<g class=\"edge\" id=\"edge5\"><title>1620388573136-&gt;1620388571624</title>\n",
       "<path d=\"M108.5,-219.313C108.5,-211.289 108.5,-201.547 108.5,-192.569\" fill=\"none\" stroke=\"black\"/>\n",
       "<polygon fill=\"black\" points=\"112,-192.529 108.5,-182.529 105,-192.529 112,-192.529\" stroke=\"black\"/>\n",
       "</g>\n",
       "<!-- 1620388570112 -->\n",
       "<g class=\"node\" id=\"node7\"><title>1620388570112</title>\n",
       "<polygon fill=\"none\" points=\"54,-73.5 54,-109.5 163,-109.5 163,-73.5 54,-73.5\" stroke=\"black\"/>\n",
       "<text font-family=\"Times New Roman,serif\" font-size=\"14.00\" text-anchor=\"middle\" x=\"108.5\" y=\"-87.8\">flatten_1: Flatten</text>\n",
       "</g>\n",
       "<!-- 1620388571624&#45;&gt;1620388570112 -->\n",
       "<g class=\"edge\" id=\"edge6\"><title>1620388571624-&gt;1620388570112</title>\n",
       "<path d=\"M108.5,-146.313C108.5,-138.289 108.5,-128.547 108.5,-119.569\" fill=\"none\" stroke=\"black\"/>\n",
       "<polygon fill=\"black\" points=\"112,-119.529 108.5,-109.529 105,-119.529 112,-119.529\" stroke=\"black\"/>\n",
       "</g>\n",
       "<!-- 1620388018888 -->\n",
       "<g class=\"node\" id=\"node8\"><title>1620388018888</title>\n",
       "<polygon fill=\"none\" points=\"74,-0.5 74,-36.5 143,-36.5 143,-0.5 74,-0.5\" stroke=\"black\"/>\n",
       "<text font-family=\"Times New Roman,serif\" font-size=\"14.00\" text-anchor=\"middle\" x=\"108.5\" y=\"-14.8\">fc: Dense</text>\n",
       "</g>\n",
       "<!-- 1620388570112&#45;&gt;1620388018888 -->\n",
       "<g class=\"edge\" id=\"edge7\"><title>1620388570112-&gt;1620388018888</title>\n",
       "<path d=\"M108.5,-73.3129C108.5,-65.2895 108.5,-55.5475 108.5,-46.5691\" fill=\"none\" stroke=\"black\"/>\n",
       "<polygon fill=\"black\" points=\"112,-46.5288 108.5,-36.5288 105,-46.5289 112,-46.5288\" stroke=\"black\"/>\n",
       "</g>\n",
       "</g>\n",
       "</svg>"
      ],
      "text/plain": [
       "<IPython.core.display.SVG object>"
      ]
     },
     "execution_count": 11,
     "metadata": {},
     "output_type": "execute_result"
    }
   ],
   "source": [
    "happymodel.summary()\n",
    "plot_model(happymodel, to_file=\"happymodel.png\")\n",
    "SVG(model_to_dot(happymodel).create(prog ='dot', format ='svg'))"
   ]
  }
 ],
 "metadata": {
  "kernelspec": {
   "display_name": "Python 3",
   "language": "python",
   "name": "python3"
  },
  "language_info": {
   "codemirror_mode": {
    "name": "ipython",
    "version": 3
   },
   "file_extension": ".py",
   "mimetype": "text/x-python",
   "name": "python",
   "nbconvert_exporter": "python",
   "pygments_lexer": "ipython3",
   "version": "3.6.6"
  }
 },
 "nbformat": 4,
 "nbformat_minor": 2
}
